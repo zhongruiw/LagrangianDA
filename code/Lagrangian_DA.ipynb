{
 "cells": [
  {
   "cell_type": "code",
   "execution_count": 1,
   "id": "e4ca0aab",
   "metadata": {},
   "outputs": [],
   "source": [
    "\"\"\"\n",
    "Lagrangian DA for the 2-layer QG system\n",
    "\"\"\"\n",
    "\n",
    "import matplotlib.pyplot as plt\n",
    "import numpy as np\n",
    "from matplotlib.gridspec import GridSpec\n",
    "from scipy.stats import gaussian_kde\n",
    "from Lagrange_tracer import Lagrange_tracer_model\n",
    "import h5py\n",
    "from scipy import sparse\n",
    "\n",
    "# fix the random seed\n",
    "np.random.seed(2024)\n"
   ]
  },
  {
   "cell_type": "markdown",
   "id": "24013769",
   "metadata": {},
   "source": [
    "# load data"
   ]
  },
  {
   "cell_type": "code",
   "execution_count": null,
   "id": "b42f9195",
   "metadata": {},
   "outputs": [
    {
     "name": "stdout",
     "output_type": "stream",
     "text": [
      "psi_hat_t.shape (128, 128, 10000)\n"
     ]
    }
   ],
   "source": [
    "# load data\n",
    "data_path = '/Users/ree/Documents/Research/Proj_1_LangrangeDA/code/qg_2layer_topo/QG_DATA_topo10_nu5e-14_K128_0312.mat'\n",
    "with h5py.File(data_path, 'r') as file:\n",
    "#     print(\"Keys: %s\" % file.keys())\n",
    "    psi1_hat_t = np.transpose(file['psi_1_t'][()], axes=(2, 1, 0)) # reorder the dimensions from Python's row-major order back to MATLAB's column-major order \n",
    "    dt = file['dt'][()][0,0]\n",
    "    params_dataset = file['params']\n",
    "    topo = params_dataset['H'][()] [0,0]\n",
    "    kd = params_dataset['kd'][()] [0,0]\n",
    "    U = params_dataset['U'][()] [0,0]\n",
    "    kb = params_dataset['kb'][()] [0,0]\n",
    "    beta = kb**2\n",
    "    K = int(params_dataset['N'][()] [0,0])\n",
    "    H = params_dataset['H'][()] [0,0]\n",
    "    topo = file['topo'][()]\n",
    "print('psi_hat_t.shape',psi1_hat_t.shape)\n",
    "psi1_hat_t = psi1_hat_t['real'] + 1j * psi1_hat_t['imag']\n",
    "print('psi_hat_t.dtype',psi1_hat_t.dtype)"
   ]
  },
  {
   "cell_type": "markdown",
   "id": "d27fc2a8",
   "metadata": {},
   "source": [
    "# generate tracer observations"
   ]
  },
  {
   "cell_type": "code",
   "execution_count": 3,
   "id": "981f167c",
   "metadata": {},
   "outputs": [
    {
     "name": "stderr",
     "output_type": "stream",
     "text": [
      "/Users/ree/Documents/Research/Proj_1_LangrangeDA/code/Lagrange_tracer.py:99: ComplexWarning: Casting complex values to real discards the imaginary part\n",
      "  self.ut[:,:,l] = u_ifft_shift[::self.interv, ::self.interv] # only save the sparsely sampled grids\n",
      "/Users/ree/Documents/Research/Proj_1_LangrangeDA/code/Lagrange_tracer.py:103: ComplexWarning: Casting complex values to real discards the imaginary part\n",
      "  self.vt[:,:,l] = v_ifft_shift[::self.interv, ::self.interv] # only save the sparsely sampled grids\n"
     ]
    }
   ],
   "source": [
    "L = 4 # number of tracers\n",
    "K = psi1_hat_t.shape[0]\n",
    "N = psi1_hat_t.shape[2]\n",
    "kx = np.fft.fftfreq(K) * K\n",
    "ky = np.fft.fftfreq(K) * K\n",
    "sigma_xy = 0.1\n",
    "x0 = np.random.uniform(-np.pi, np.pi, L)\n",
    "y0 = np.random.uniform(-np.pi, np.pi, L)\n",
    "\n",
    "# run model\n",
    "model = Lagrange_tracer_model(N, L, kx, ky, psi1_hat_t, dt, sigma_xy, x0, y0, interv=1)\n",
    "xt, yt, ut, vt = model.forward()   "
   ]
  },
  {
   "cell_type": "code",
   "execution_count": 5,
   "id": "dc6e5f26",
   "metadata": {},
   "outputs": [],
   "source": [
    "# save data\n",
    "obs = {\n",
    "    'xt': xt,\n",
    "    'yt': yt,\n",
    "    'ut': ut,\n",
    "    'vt': vt,\n",
    "    'sigma_xy': sigma_xy,\n",
    "    'L': L,\n",
    "    'dt': dt\n",
    "}\n",
    "np.savez('../data/obs_K128.npz', **obs)"
   ]
  },
  {
   "cell_type": "markdown",
   "id": "26d85984",
   "metadata": {},
   "source": [
    "# Lagrangian DA"
   ]
  },
  {
   "cell_type": "code",
   "execution_count": 2,
   "id": "645eaaf0",
   "metadata": {},
   "outputs": [],
   "source": [
    "# load data\n",
    "obs = np.load('../data/obs_K128.npz')\n",
    "xt = obs['xt']\n",
    "yt = obs['yt']\n",
    "sigma_xy = obs['sigma_xy']\n",
    "dt = obs['dt']\n",
    "params = np.load('../data/est_paras_ou_K128.npy', allow_pickle=True).item()\n",
    "gamma, omega, f, sigma = params['gamma'], params['omega'], params['f'], params['sigma']\n",
    "eigens = np.load('../data/eigens_K128.npy', allow_pickle=True)\n",
    "omega1 = eigens.item()['omega1']\n",
    "omega2 = eigens.item()['omega2']\n",
    "r1 = eigens.item()['r1']\n",
    "r2 = eigens.item()['r2']\n",
    "file = np.load('../data/psi_k_truth_K128.npz') # obtain the true underlying flow ($\\boldsymbol{\\Psi}^\\bot$)\n",
    "psi_t_k = file['psi_t_k']\n",
    "tau_t_k = file['tau_t_k']\n",
    "cut = file['cut']"
   ]
  },
  {
   "cell_type": "code",
   "execution_count": 26,
   "id": "d90bbded",
   "metadata": {},
   "outputs": [
    {
     "data": {
      "text/plain": [
       "array([[ True,  True,  True, False, False, False,  True,  True],\n",
       "       [ True,  True,  True, False, False, False,  True,  True],\n",
       "       [ True,  True,  True, False, False, False,  True,  True],\n",
       "       [False, False, False, False, False, False, False, False],\n",
       "       [False, False, False, False, False, False, False, False],\n",
       "       [False, False, False, False, False, False, False, False],\n",
       "       [ True,  True,  True, False, False, False,  True,  True],\n",
       "       [ True,  True,  True, False, False, False,  True,  True]])"
      ]
     },
     "execution_count": 26,
     "metadata": {},
     "output_type": "execute_result"
    }
   ],
   "source": [
    "cut = 1\n",
    "index_to_remove = np.zeros((K, K), dtype=bool)\n",
    "index_to_remove[(K//2-cut):(K//2+cut+1), :] = True\n",
    "index_to_remove[:, (K//2-cut):(K//2+cut+1)] = True\n",
    "~index_to_remove"
   ]
  },
  {
   "cell_type": "code",
   "execution_count": 30,
   "id": "43934e2c",
   "metadata": {},
   "outputs": [
    {
     "data": {
      "text/plain": [
       "array([ 0.,  1., -1.])"
      ]
     },
     "execution_count": 30,
     "metadata": {},
     "output_type": "execute_result"
    }
   ],
   "source": [
    "import numpy as np\n",
    "\n",
    "def truncate(kk, cut):\n",
    "    K = kk.shape[0]\n",
    "\n",
    "    if kk.ndim == 1:\n",
    "        index_to_remove = np.zeros(K, dtype=bool)\n",
    "        index_to_remove[(K//2-cut):(K//2+cut+1)] = True\n",
    "    elif kk.ndim == 2:\n",
    "        index_to_remove = np.zeros((K, K), dtype=bool)\n",
    "        index_to_remove[(K//2-cut):(K//2+cut+1), :] = True\n",
    "        index_to_remove[:, (K//2-cut):(K//2+cut+1)] = True\n",
    "\n",
    "    return kk[~index_to_remove]\n",
    "\n",
    "K = 8; cut = 2\n",
    "kx = np.fft.fftfreq(K) * K\n",
    "truncate(kx, cut)"
   ]
  },
  {
   "cell_type": "code",
   "execution_count": 12,
   "id": "831e5337",
   "metadata": {},
   "outputs": [
    {
     "name": "stdout",
     "output_type": "stream",
     "text": [
      "[1 3 4 5]\n"
     ]
    }
   ],
   "source": [
    "# Sample array\n",
    "arr = np.array([1, 2, 3, 4, 5])\n",
    "\n",
    "# Index of elements to remove, let's say we want to remove the element at index 1 (which is 2)\n",
    "# For multiple indices, use a list: [1, 3]\n",
    "index_to_remove = 1\n",
    "\n",
    "# Remove the element\n",
    "new_arr = np.delete(arr, index_to_remove)\n",
    "\n",
    "print(new_arr)"
   ]
  },
  {
   "cell_type": "code",
   "execution_count": null,
   "id": "aced202d",
   "metadata": {},
   "outputs": [
    {
     "name": "stderr",
     "output_type": "stream",
     "text": [
      "/var/folders/lz/50081q0n24g8lq6ncqpbp8780000gn/T/ipykernel_19948/2050836567.py:29: ComplexWarning: Casting complex values to real discards the imaginary part\n",
      "  mu_t[:, 0] = mu0\n"
     ]
    }
   ],
   "source": [
    "# Lagrangian DA\n",
    "def truncate(kk, cut):\n",
    "    K = kk.shape[0]\n",
    "\n",
    "    if kk.ndim == 1:\n",
    "        index_to_remove = np.zeros(K, dtype=bool)\n",
    "        index_to_remove[(K//2-cut):(K//2+cut+1)] = True\n",
    "    elif kk.ndim == 2:\n",
    "        index_to_remove = np.zeros((K, K), dtype=bool)\n",
    "        index_to_remove[(K//2-cut):(K//2+cut+1), :] = True\n",
    "        index_to_remove[:, (K//2-cut):(K//2+cut+1)] = True\n",
    "\n",
    "    return kk[~index_to_remove]\n",
    "\n",
    "def get_A(x,y,K,r1,r2,cut):\n",
    "    L = x.shape[0]\n",
    "    kx = np.fft.fftfreq(K) * K\n",
    "    ky = np.fft.fftfreq(K) * K\n",
    "    KX, KY = np.meshgrid(kx, ky)\n",
    "    KX = truncate(KX, cut)\n",
    "    KY = truncate(KY, cut)\n",
    "    r1 = truncate(r1[:,:,0], cut)\n",
    "    r2 = truncate(r2[:,:,0], cut)\n",
    "    E = np.zeros((2*L, (K-2*cut+1)**2), dtype=np.complex_)\n",
    "#     R_bot = np.zeros((K**2, 2*K**2), dtype=np.float_)\n",
    "\n",
    "    exp_term = np.exp(1j * x[:,None] @ KX.flatten()[None,:] + 1j * y[:,None] @ KY.flatten()[None,:])\n",
    "    E[:L,:] = exp_term * (1j) * KY.flatten()\n",
    "    E[L:,:] = exp_term * (-1j) * KX.flatten()\n",
    "\n",
    "    R_bot = sparse.block_diag([sparse.diags(r1.flatten()), sparse.diags(r2.flatten())], format=\"csr\")\n",
    "    \n",
    "    A = sparse.csr_matrix(E).dot(R_bot)\n",
    "#     A = E @ R_bot\n",
    "\n",
    "    return A\n",
    "\n",
    "N = 10\n",
    "# Sigma1 = np.array(sigma_xy)[None, None]\n",
    "# invBoB = np.linalg.inv(Sigma1 @ Sigma1.T)\n",
    "invBoB = 1 / sigma_xy**2\n",
    "mu0 = np.concatenate((psi_t_k[:,:,0].flatten(), tau_t_k[:,:,0].flatten())) # assume the initial condition is truth\n",
    "n = mu0.shape[0]\n",
    "R0 = np.zeros((n, n))\n",
    "mu_t = np.zeros((n, N))  # posterior mean\n",
    "mu_t[:, 0] = mu0\n",
    "R_t = np.zeros((n, N))  # posterior covariance\n",
    "R_t[:, 0] = np.diag(R0)  # only save the diagonal elements\n",
    "a0 = f.flatten()\n",
    "a1 = -np.diag(gamma.flatten()) + 1j * np.diag(omega.flatten())\n",
    "Sigma_u = np.diag(sigma.flatten())\n",
    "\n",
    "for i in range(1, N):\n",
    "    x0 = x[:, i - 1]\n",
    "    y0 = y[:, i - 1]\n",
    "    x1 = x[:, i]\n",
    "    y1 = y[:, i]\n",
    "    x_diff = x1 - x0\n",
    "    y_diff = y1 - y0\n",
    "\n",
    "    # Need to take into account the periodic boundary conditions\n",
    "    x_diff[x_diff > np.pi] = x_diff[x_diff > np.pi] - 2 * np.pi\n",
    "    x_diff[x_diff < -np.pi] = x_diff[x_diff < -np.pi] + 2 * np.pi\n",
    "    y_diff[y_diff > np.pi] = y_diff[y_diff > np.pi] - 2 * np.pi\n",
    "    y_diff[y_diff < -np.pi] = y_diff[y_diff < -np.pi] + 2 * np.pi\n",
    "\n",
    "    # Matrix for filtering\n",
    "    A1 = get_A(x0, y0, K, r1, r2)\n",
    "    \n",
    "    # Update the posterior mean and posterior covariance\n",
    "    mu = mu0 + (a0 + a1 @ mu0[:,None]) * dt + (R0 @ A1.T) * InvBoB @ (np.hstack((x_diff, y_diff))[:,None] - A1 @ mu0[:,None] * dt)\n",
    "    R = R0 + (a1 @ R0 + R0 @ a1.T + Sigma_u @ Sigma_u.T - (R0 @ A1.T) * InvBoB @ (R0 @ A1.T).T) * dt\n",
    "    mu_t[:, i] = mu\n",
    "    R_t[:, i] = np.diag(R)\n",
    "    mu0 = mu\n",
    "    R0 = R\n",
    "\n",
    "# # Plot\n",
    "# sel0 = 10000; sel1 = 20000 # plot time range\n",
    "# interv = 10 # plot interval\n",
    "# xaxis = np.arange(sel0*dt, sel1*dt, interv*dt)\n",
    "\n",
    "# fig = plt.figure()\n",
    "# widths = [8, 2]\n",
    "# heights = [2, 2, 2]\n",
    "# spec = fig.add_gridspec(ncols=2, nrows=3, width_ratios=widths, height_ratios=heights)\n",
    "\n",
    "# plt.subplots_adjust(wspace=0.2, hspace=0.5)     # Adjust the overall spacing of the figure\n",
    "# ax1 = fig.add_subplot(spec[0, 0])\n",
    "# ax2 = fig.add_subplot(spec[1, 0])\n",
    "# ax3 = fig.add_subplot(spec[2, 0])\n",
    "# ax4 = fig.add_subplot(spec[0, 1])\n",
    "# ax5 = fig.add_subplot(spec[1, 1])\n",
    "# ax6 = fig.add_subplot(spec[2, 1])\n",
    "\n",
    "# # plot time series\n",
    "# ax1.plot(xaxis, truth[0,0,sel0:sel1:interv])\n",
    "# ax1.set_xlim(sel0*dt, sel1*dt)\n",
    "# ax1.set_ylabel('x')\n",
    "# ax1.set_title('time series')\n",
    "\n",
    "# ax2.plot(xaxis, truth[1,0,sel0:sel1:interv], label='truth')\n",
    "# ax2.plot(xaxis, u2_means[0,sel0:sel1:interv], label='filter')\n",
    "# ax2.set_xlim(sel0*dt, sel1*dt)\n",
    "# ax2.set_ylabel('y')\n",
    "# ax2.legend()\n",
    "\n",
    "# ax3.plot(xaxis, truth[2,0,sel0:sel1:interv], label='truth')\n",
    "# ax3.plot(xaxis, u2_means[1,sel0:sel1:interv], label='filter')\n",
    "# ax3.set_xlim(sel0*dt, sel1*dt)\n",
    "# ax3.set_ylabel('z')\n",
    "# ax3.set_xlabel('t')\n",
    "\n",
    "# # plot pdf\n",
    "# samples = truth[0, 0, :]\n",
    "# kde = gaussian_kde(samples)\n",
    "# xticks = np.linspace(samples.min(), samples.max(), 100)\n",
    "# p = kde.evaluate(xticks)\n",
    "# ax4.plot(xticks, p)\n",
    "# ax4.set_title('PDF')\n",
    "\n",
    "# samples = truth[1, 0, :]\n",
    "# kde = gaussian_kde(samples)\n",
    "# xticks = np.linspace(samples.min(), samples.max(), 100)\n",
    "# p = kde.evaluate(xticks)\n",
    "# ax5.plot(xticks, p, label='truth')\n",
    "# samples = u2_means[0, :]\n",
    "# kde = gaussian_kde(samples)\n",
    "# p = kde.evaluate(xticks)\n",
    "# ax5.plot(xticks, p, label='filter')\n",
    "\n",
    "# samples = truth[2, 0, :]\n",
    "# kde = gaussian_kde(samples)\n",
    "# xticks = np.linspace(samples.min(), samples.max(), 100)\n",
    "# p = kde.evaluate(xticks)\n",
    "# ax6.plot(xticks, p, label='truth')\n",
    "# samples = u2_means[1, :]\n",
    "# kde = gaussian_kde(samples)\n",
    "# p = kde.evaluate(xticks)\n",
    "# ax6.plot(xticks, p, label='filter')\n",
    "\n",
    "# plt.show()"
   ]
  },
  {
   "cell_type": "code",
   "execution_count": null,
   "id": "89373442",
   "metadata": {},
   "outputs": [],
   "source": []
  }
 ],
 "metadata": {
  "kernelspec": {
   "display_name": "Python [conda env:py]",
   "language": "python",
   "name": "conda-env-py-py"
  },
  "language_info": {
   "codemirror_mode": {
    "name": "ipython",
    "version": 3
   },
   "file_extension": ".py",
   "mimetype": "text/x-python",
   "name": "python",
   "nbconvert_exporter": "python",
   "pygments_lexer": "ipython3",
   "version": "3.11.6"
  }
 },
 "nbformat": 4,
 "nbformat_minor": 5
}
